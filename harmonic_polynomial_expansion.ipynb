{
 "cells": [
  {
   "cell_type": "code",
   "execution_count": 1,
   "metadata": {
    "id": "DGYmStoHjwM7"
   },
   "outputs": [],
   "source": [
    "import numpy as np\n",
    "import sympy as sp \n",
    "from sympy import assoc_legendre\n",
    "import matplotlib.pyplot as plt"
   ]
  },
  {
   "cell_type": "code",
   "execution_count": 2,
   "metadata": {
    "id": "ghc9CkU5j3Vj"
   },
   "outputs": [],
   "source": [
    "l,m = sp.symbols('l,m',real=True)\n",
    "x,y,z = sp.symbols('x,y,z',real=True,positive=True)\n",
    "r,theta,phi = sp.symbols('r,theta,phi')\n",
    "\n",
    "# function to convert spherical coords to cartesian \n",
    "def SphericalToCartesian(f):\n",
    "  return f.subs([(r,sp.sqrt(x**2 + y**2 + z**2)),\n",
    "                 (theta,sp.acos(z/sp.sqrt(x**2 + y**2 + z**2))),\n",
    "                 (phi,sp.asin(y/sp.sqrt(x**2 + y**2)))])"
   ]
  },
  {
   "cell_type": "code",
   "execution_count": 3,
   "metadata": {
    "id": "Ntqs9W-Nj6J6"
   },
   "outputs": [],
   "source": [
    "# function to generate basis function in cartisian coords \n",
    "def basisFunction(l,m):\n",
    "  l+=1\n",
    "  c_plus = sp.factorial(l-1) * (-2)**(sp.Abs(m)) /sp.factorial(l + m) * sp.cos(m * phi)\n",
    "  c_negt = sp.factorial(l-1) * (-2)**(sp.Abs(m)) /sp.factorial(l + sp.Abs(m)) * sp.sin(sp.Abs(m) * phi)\n",
    "\n",
    "  s_plus  = SphericalToCartesian(c_plus* r**l * assoc_legendre(l,m,sp.cos(theta)))\n",
    "  s_minus = SphericalToCartesian(c_negt* r**l * assoc_legendre(l,sp.Abs(m),sp.cos(theta)))\n",
    "  \n",
    "  if m >= 0:\n",
    "    return [sp.expand_trig(sp.diff(s_plus, axis)).simplify() for axis in [x,y,z]]\n",
    "  else:\n",
    "    return [sp.expand_trig(sp.diff(s_minus, axis)).simplify().expand() for axis in [x,y,z]]"
   ]
  },
  {
   "cell_type": "code",
   "execution_count": 4,
   "metadata": {},
   "outputs": [
    {
     "name": "stdout",
     "output_type": "stream",
     "text": [
      "[y, x, 0]\n",
      "[0, z, y]\n",
      "[-x/2, -y/2, z]\n",
      "[z, 0, x]\n",
      "[x, -y, 0]\n",
      "[2*x*y, x**2 - y**2, 0]\n",
      "[2*y*z, 2*x*z, 2*x*y]\n",
      "[-x*y/2, -x**2/4 - 3*y**2/4 + z**2, 2*y*z]\n",
      "[-x*z, -y*z, -x**2/2 - y**2/2 + z**2]\n",
      "[-3*x**2/4 - y**2/4 + z**2, -x*y/2, 2*x*z]\n",
      "[2*x*z, -2*y*z, x**2 - y**2]\n",
      "[x**2 - y**2, -2*x*y, 0]\n"
     ]
    }
   ],
   "source": [
    "# print the basis fucntion upto order L\n",
    "def BasisFucntionUpToOrder(L):\n",
    "    for l in range(1,L):\n",
    "        for m in range(-l-1,l+2):\n",
    "            print(basisFunction(l,m))\n",
    "BasisFucntionUpToOrder(3)"
   ]
  },
  {
   "cell_type": "code",
   "execution_count": null,
   "metadata": {},
   "outputs": [],
   "source": []
  }
 ],
 "metadata": {
  "colab": {
   "authorship_tag": "ABX9TyN7rb8b5k0KgGNKJS7BCvCK",
   "collapsed_sections": [],
   "name": "probe_array.ipynb",
   "provenance": []
  },
  "kernelspec": {
   "display_name": "Python 3 (ipykernel)",
   "language": "python",
   "name": "python3"
  },
  "language_info": {
   "codemirror_mode": {
    "name": "ipython",
    "version": 3
   },
   "file_extension": ".py",
   "mimetype": "text/x-python",
   "name": "python",
   "nbconvert_exporter": "python",
   "pygments_lexer": "ipython3",
   "version": "3.9.7"
  }
 },
 "nbformat": 4,
 "nbformat_minor": 1
}
