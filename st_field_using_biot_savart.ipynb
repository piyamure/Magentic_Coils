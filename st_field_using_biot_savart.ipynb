{
 "cells": [
  {
   "cell_type": "code",
   "execution_count": 16,
   "id": "53972644",
   "metadata": {},
   "outputs": [],
   "source": [
    "import numpy as np\n",
    "import matplotlib.pyplot as plt\n",
    "import pandas as pd\n",
    "import os"
   ]
  },
  {
   "cell_type": "code",
   "execution_count": 17,
   "id": "d06c5949",
   "metadata": {},
   "outputs": [
    {
     "data": {
      "text/plain": [
       "['full_wires',\n",
       " 'kycoils.txt',\n",
       " 'st_field_feilicity.ipynb',\n",
       " 'st_field_using_biot_savart.ipynb']"
      ]
     },
     "execution_count": 17,
     "metadata": {},
     "output_type": "execute_result"
    }
   ],
   "source": [
    "os.getcwd()\n",
    "os.listdir()"
   ]
  },
  {
   "cell_type": "code",
   "execution_count": 18,
   "id": "a12f40f3",
   "metadata": {},
   "outputs": [
    {
     "name": "stdout",
     "output_type": "stream",
     "text": [
      "-0.65025 -0.75\n"
     ]
    }
   ],
   "source": [
    "# determine the length of the coil -> coil1 is the shortest coil \n",
    "data = np.loadtxt('full_wires/mirror_coil1/mir_wire7.txt')\n",
    "print(np.max(data[:,0]),np.min(data[:,0]))"
   ]
  },
  {
   "cell_type": "code",
   "execution_count": 19,
   "id": "614f24c1",
   "metadata": {},
   "outputs": [],
   "source": [
    "# check the number of wire winding\n",
    "\n",
    "def count_wires(dir_path):\n",
    "    count =0\n",
    "    for path in os.listdir(dir_path):\n",
    "        if os.path.isfile(os.path.join(dir_path,path)):\n",
    "            count +=1\n",
    "    return print(f'Number of wire files = {count}')"
   ]
  },
  {
   "cell_type": "code",
   "execution_count": 20,
   "id": "4ae17360",
   "metadata": {},
   "outputs": [
    {
     "name": "stdout",
     "output_type": "stream",
     "text": [
      "Number of wire files = 108\n"
     ]
    }
   ],
   "source": [
    "# coil A\n",
    "dir_path = 'full_wires/mirror_coil1'\n",
    "count_wires(dir_path)"
   ]
  },
  {
   "cell_type": "code",
   "execution_count": 21,
   "id": "aa5c6f78",
   "metadata": {},
   "outputs": [
    {
     "name": "stdout",
     "output_type": "stream",
     "text": [
      "Number of wire files = 108\n"
     ]
    }
   ],
   "source": [
    "# coil B \n",
    "dir_path = 'full_wires/mirror_coil2'\n",
    "count_wires(dir_path)"
   ]
  },
  {
   "cell_type": "code",
   "execution_count": 22,
   "id": "f757fcee",
   "metadata": {},
   "outputs": [
    {
     "name": "stdout",
     "output_type": "stream",
     "text": [
      "Number of wire files = 100\n"
     ]
    }
   ],
   "source": [
    "# coil c \n",
    "dir_path = 'full_wires/mirror_coil3'\n",
    "count_wires(dir_path)"
   ]
  },
  {
   "cell_type": "code",
   "execution_count": 23,
   "id": "fd82cfb4",
   "metadata": {},
   "outputs": [
    {
     "name": "stdout",
     "output_type": "stream",
     "text": [
      "Number of wire files = 94\n"
     ]
    }
   ],
   "source": [
    "# coil D \n",
    "dir_path = 'full_wires/mirror_coil4'\n",
    "count_wires(dir_path)"
   ]
  },
  {
   "cell_type": "code",
   "execution_count": 24,
   "id": "88d51e08",
   "metadata": {},
   "outputs": [],
   "source": [
    "# all the seperated folders has 4 times higher wire density "
   ]
  },
  {
   "cell_type": "code",
   "execution_count": 25,
   "id": "83a76679",
   "metadata": {},
   "outputs": [
    {
     "data": {
      "text/plain": [
       "(100, 3)"
      ]
     },
     "execution_count": 25,
     "metadata": {},
     "output_type": "execute_result"
    }
   ],
   "source": [
    "x = np.linspace(-0.75,0,100)        # lenth of all 4 coils is 0.75 m \n",
    "y = np.zeros_like(x)\n",
    "z = np.zeros_like(x)\n",
    "x_axis = np.stack([x,y,z],axis=1)   # this is the axis along which field is evaluated \n",
    "\n",
    "# function to find the field of one wire along the axis of coil \n",
    "def field_of_one_wire(data):\n",
    "    r_vec = np.expand_dims(data,axis=0) - np.expand_dims(x_axis,axis=1) \n",
    "    dl_vc = np.expand_dims(np.diff(data,axis=0),axis=0)\n",
    "    r_mag = np.expand_dims(np.linalg.norm(r_vec[:,:-1,:],axis=-1),axis=-1)\n",
    "    db = np.cross(dl_vc,r_vec[:,:-1,:])/r_mag**3\n",
    "    B = np.sum(db,axis=1)\n",
    "    return B*1e-7\n",
    "      \n",
    "field_of_one_wire(data).shape "
   ]
  },
  {
   "cell_type": "code",
   "execution_count": 26,
   "id": "9a90d5d1",
   "metadata": {},
   "outputs": [],
   "source": [
    "# let's find magnetic field due to many wires \n",
    "\n",
    "# all the files for one coil \n",
    "dir_path_coil_1 = 'full_wires/mirror_coil1'\n",
    "dir_path_coil_2 = 'full_wires/mirror_coil2'\n",
    "dir_path_coil_3 = 'full_wires/mirror_coil3'\n",
    "dir_path_coil_4 = 'full_wires/mirror_coil4'\n"
   ]
  },
  {
   "cell_type": "code",
   "execution_count": 27,
   "id": "d88c6170",
   "metadata": {},
   "outputs": [],
   "source": [
    "# fucntion to get the toal magnetic field due to one coil section  \n",
    "\n",
    "def B_tot_coil_section(dir_path,current):\n",
    "    data_files = [os.path.join(dir_path,path) for path in os.listdir(dir_path) if os.path.isfile(os.path.join(dir_path,path))]\n",
    "    num_of_wires = len(data_files)\n",
    "    B = np.zeros((num_of_wires,100,3))\n",
    "    for i in range(num_of_wires):\n",
    "        data = np.loadtxt(data_files[i])\n",
    "        B[i] = field_of_one_wire(data)*current\n",
    "\n",
    "    B_tot = np.sum(B,axis=0)\n",
    "    return B_tot.T"
   ]
  },
  {
   "cell_type": "code",
   "execution_count": 28,
   "id": "945a23a9",
   "metadata": {},
   "outputs": [],
   "source": [
    "Bx_1, By_1,Bz_1 = B_tot_coil_section(dir_path_coil_1,0.1196)\n",
    "Bx_2, By_2,Bz_2 = B_tot_coil_section(dir_path_coil_2,0.1474)\n",
    "Bx_3, By_3,Bz_3 = B_tot_coil_section(dir_path_coil_3,0.2572)\n",
    "Bx_4, By_4,Bz_4 = B_tot_coil_section(dir_path_coil_4,1.0)"
   ]
  },
  {
   "cell_type": "code",
   "execution_count": 29,
   "id": "d9a0dc96",
   "metadata": {},
   "outputs": [
    {
     "data": {
      "image/png": "[encoded data removed]",
      "text/plain": [
       "<Figure size 640x480 with 1 Axes>"
      ]
     },
     "metadata": {},
     "output_type": "display_data"
    }
   ],
   "source": [
    "plt.plot(x,-Bz_1)\n",
    "plt.plot(x,-Bz_2)\n",
    "plt.plot(x,-Bz_3)\n",
    "plt.plot(x,-Bz_4)\n",
    "\n",
    "plt.xlabel('$x(m)$')\n",
    "plt.ylabel('$B_z(T)$')\n",
    "plt.show()"
   ]
  },
  {
   "cell_type": "code",
   "execution_count": 30,
   "id": "0dfce3c2",
   "metadata": {},
   "outputs": [
    {
     "data": {
      "image/png": "[encoded data removed]",
      "text/plain": [
       "<Figure size 640x480 with 1 Axes>"
      ]
     },
     "metadata": {},
     "output_type": "display_data"
    }
   ],
   "source": [
    "plt.plot(x,-(Bz_4 +Bz_3 + Bz_2 + Bz_1), 'k--')\n",
    "\n",
    "plt.xlabel('$x(m)$')\n",
    "plt.ylabel('$B_z(T)$')\n",
    "plt.show()"
   ]
  },
  {
   "cell_type": "code",
   "execution_count": null,
   "id": "df9c6b98",
   "metadata": {},
   "outputs": [],
   "source": []
  }
 ],
 "metadata": {
  "kernelspec": {
   "display_name": "Python 3 (ipykernel)",
   "language": "python",
   "name": "python3"
  },
  "language_info": {
   "codemirror_mode": {
    "name": "ipython",
    "version": 3
   },
   "file_extension": ".py",
   "mimetype": "text/x-python",
   "name": "python",
   "nbconvert_exporter": "python",
   "pygments_lexer": "ipython3",
   "version": "3.9.13"
  }
 },
 "nbformat": 4,
 "nbformat_minor": 5
}
